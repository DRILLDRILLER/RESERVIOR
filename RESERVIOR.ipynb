{
 "cells": [
  {
   "cell_type": "markdown",
   "id": "ebeea409-22fd-4941-ba4d-2714307a004c",
   "metadata": {},
   "source": [
    "### A Python code that shows whether a kick will occur, formation breakdown or it is a save zone  by inputing  the required pressure datas also whether the reservoir is Saturated or undersaturated"
   ]
  },
  {
   "cell_type": "markdown",
   "id": "6e1f7aa3-ce87-468b-83ff-cf6b2922c6f1",
   "metadata": {},
   "source": [
    "### note:\n",
    "    if the hydrostatic pressure is less than reservior pressure kick will occur but if it is greater than fracture pressure fracture will occur because of mud and if its in between that is your save zone"
   ]
  },
  {
   "cell_type": "code",
   "execution_count": null,
   "id": "53e2ea93-fc8b-4259-8e89-904c31359aab",
   "metadata": {},
   "outputs": [],
   "source": [
    "Reservior_pressure = float(input(\"Enter the Reservior_pressure(psi)\"))\n",
    "Hydrostatic_pressure = float(input(\"Enter the Hydrostatic_pressure(psi)\"))\n",
    "Fracture_pressure = float(input(\"Enter the Fracture_pressure(psi)\"))\n",
    "\n",
    "\n",
    "if Hydrostatic_pressure < Fracture_pressure and  Hydrostatic_pressure > Reservior_pressure:\n",
    "    print(\"The Reservior pressure is lesser than Hydrostatic presssure, So no Kick \")\n",
    "    print(\"Hydrostatic pressure due to mud is lesser than Fracture pressure of the formation, So no Fracture\")\n",
    "    print(\"Save Zone\")\n",
    "elif Hydrostatic_pressure > Fracture_pressure and  Hydrostatic_pressure <  Reservior_pressure:\n",
    "    print(\"Hydrostatic pressure due to mud is greater than Fracture pressure of the formation, Fracture may occur\")\n",
    "    print(\"ALERT !!! Risk of formation Fracture\")\n",
    "else:\n",
    "    print(\"ALERT !!! Risk of Kick\")"
   ]
  },
  {
   "cell_type": "markdown",
   "id": "fb2b4ae6-2e68-4f0f-b706-566c715e94f4",
   "metadata": {},
   "source": [
    "#### note:\n",
    "   #####  if the Reservior pressure is Higher than the Bubble pressure, then  the reservior is UNDERSATURAED and also pr is lower than pb, then The reservior is SATURATED   \n",
    "   #### Pr is Reservior pressure \n",
    "   #### Pb is the Bubble pressure"
   ]
  },
  {
   "cell_type": "code",
   "execution_count": 3,
   "id": "ede62b6a-ba7e-4367-9058-e862238b4bde",
   "metadata": {},
   "outputs": [
    {
     "name": "stdin",
     "output_type": "stream",
     "text": [
      "Enter the Reservior pressure(psi):  5000\n",
      "Enter the Bubble pressure(psi):  3000\n"
     ]
    },
    {
     "name": "stdout",
     "output_type": "stream",
     "text": [
      "The Reservior is Undersatured !!!\n"
     ]
    }
   ],
   "source": [
    "\n",
    "\n",
    "Pr = float(input(\"Enter the Reservior pressure(psi): \"))\n",
    "Pb = float(input(\"Enter the Bubble pressure(psi): \"))\n",
    "\n",
    "if Pr > Pb:\n",
    "    print(\"The Reservior is Undersatured !!!\")\n",
    "elif Pr == Pb:\n",
    "    print(\"The reservior is Saturated !!!\")\n",
    "else:\n",
    "    print(\"Gas has beeen evolved\")"
   ]
  },
  {
   "cell_type": "code",
   "execution_count": null,
   "id": "dd7393b8-65ec-487e-9fa3-1d0056ce5415",
   "metadata": {},
   "outputs": [],
   "source": []
  }
 ],
 "metadata": {
  "kernelspec": {
   "display_name": "Python 3 (ipykernel)",
   "language": "python",
   "name": "python3"
  },
  "language_info": {
   "codemirror_mode": {
    "name": "ipython",
    "version": 3
   },
   "file_extension": ".py",
   "mimetype": "text/x-python",
   "name": "python",
   "nbconvert_exporter": "python",
   "pygments_lexer": "ipython3",
   "version": "3.12.7"
  }
 },
 "nbformat": 4,
 "nbformat_minor": 5
}
